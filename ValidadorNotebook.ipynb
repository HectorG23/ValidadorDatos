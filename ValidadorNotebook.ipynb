{
 "cells": [
  {
   "cell_type": "code",
   "execution_count": 6,
   "metadata": {},
   "outputs": [],
   "source": [
    "from flask import Flask, render_template, request, redirect, url_for, flash\n",
    "import proyecto\n",
    "import os\n",
    "import shutil"
   ]
  },
  {
   "cell_type": "markdown",
   "metadata": {},
   "source": [
    "este codigo valida archivos excel"
   ]
  },
  {
   "cell_type": "code",
   "execution_count": null,
   "metadata": {},
   "outputs": [
    {
     "name": "stdout",
     "output_type": "stream",
     "text": [
      " * Serving Flask app '__main__'\n",
      " * Debug mode: on\n"
     ]
    },
    {
     "name": "stderr",
     "output_type": "stream",
     "text": [
      "WARNING: This is a development server. Do not use it in a production deployment. Use a production WSGI server instead.\n",
      " * Running on http://127.0.0.1:3306\n",
      "Press CTRL+C to quit\n",
      " * Restarting with stat\n"
     ]
    },
    {
     "ename": "SystemExit",
     "evalue": "1",
     "output_type": "error",
     "traceback": [
      "An exception has occurred, use %tb to see the full traceback.\n",
      "\u001b[1;31mSystemExit\u001b[0m\u001b[1;31m:\u001b[0m 1\n"
     ]
    },
    {
     "name": "stderr",
     "output_type": "stream",
     "text": [
      "C:\\Users\\hectord.godoy\\AppData\\Roaming\\Python\\Python313\\site-packages\\IPython\\core\\interactiveshell.py:3587: UserWarning: To exit: use 'exit', 'quit', or Ctrl-D.\n",
      "  warn(\"To exit: use 'exit', 'quit', or Ctrl-D.\", stacklevel=1)\n"
     ]
    }
   ],
   "source": [
    "\n",
    "\n",
    "app = Flask(__name__)  # Inicializa la aplicación Flask\n",
    "app.secret_key = 'supersecretkey'  # Clave secreta para manejar sesiones y mensajes flash\n",
    "\n",
    "UPLOAD_FOLDER = 'uploads'  # Carpeta para subir archivos\n",
    "VALIDATED_FOLDER = 'validated'  # Carpeta para archivos validados\n",
    "\n",
    "# Crea las carpetas si no existen\n",
    "if not os.path.exists(UPLOAD_FOLDER):\n",
    "    os.makedirs(UPLOAD_FOLDER)\n",
    "\n",
    "if not os.path.exists(VALIDATED_FOLDER):\n",
    "    os.makedirs(VALIDATED_FOLDER)\n",
    "\n",
    "@app.route('/')\n",
    "def principal():\n",
    "    # Renderiza la plantilla principal\n",
    "    return render_template('index.html')\n",
    "\n",
    "@app.route('/validador', methods=['POST'])\n",
    "def validador():\n",
    "    # Verifica si los archivos están en la solicitud\n",
    "    if 'file_excel' not in request.files or 'file_json' not in request.files:\n",
    "        flash('No file part')\n",
    "        return redirect(url_for('principal'))\n",
    "    \n",
    "    file_excel = request.files['file_excel']\n",
    "    file_json = request.files['file_json']\n",
    "    \n",
    "    # Verifica si los archivos tienen nombre\n",
    "    if file_excel.filename == '' or file_json.filename == '':\n",
    "        flash('No selected file')\n",
    "        return redirect(url_for('principal'))\n",
    "    \n",
    "    if file_excel and file_json:\n",
    "        # Guarda los archivos subidos\n",
    "        excel_path = os.path.join(UPLOAD_FOLDER, file_excel.filename)\n",
    "        json_path = os.path.join(UPLOAD_FOLDER, file_json.filename)\n",
    "        \n",
    "        file_excel.save(excel_path)\n",
    "        file_json.save(json_path)\n",
    "        \n",
    "        # Valida el archivo Excel con el archivo JSON usando la función del proyecto\n",
    "        resultado = proyecto.validar_excel_con_cerberus(excel_path, json_path)\n",
    "        \n",
    "        flash(resultado['message'])  # Muestra el mensaje de resultado\n",
    "        \n",
    "        if resultado['status'] == 'success':\n",
    "            # Copia el archivo validado a la carpeta de validados\n",
    "            validated_excel_path = os.path.join(VALIDATED_FOLDER, file_excel.filename)\n",
    "            shutil.copy(excel_path, validated_excel_path)\n",
    "            flash(f'Archivo validado y copiado a {validated_excel_path}')\n",
    "        \n",
    "        return redirect(url_for('principal'))\n",
    "\n",
    "if __name__ == '__main__':\n",
    "    # Ejecuta la aplicación en modo debug en el puerto 3306\n",
    "    app.run(debug=True, port=3306)"
   ]
  },
  {
   "cell_type": "markdown",
   "metadata": {},
   "source": [
    "Enviar correo"
   ]
  },
  {
   "cell_type": "code",
   "execution_count": null,
   "metadata": {},
   "outputs": [],
   "source": [
    "def enviar_correo_con_errores(destinatario, archivo_adj):\n",
    "    email_remitente = \"jnsebas.barrios@gmail.com\"  # Cambia esto a tu correo\n",
    "    email_password = \"TU_CONTRASEÑA_APP\"  # Usa una App Password en Gmail\n",
    "\n",
    "    #asunto = \"Errores en Validación de Excel\"\n",
    "    cuerpo = \"Adjunto encontrarás los errores de validación del archivo Excel.\"\n",
    "\n",
    "    # Crear el mensaje de correo\n",
    "    mensaje = EmailMessage()\n",
    "    mensaje[\"From\"] = email_remitente\n",
    "    mensaje[\"To\"] = destinatario\n",
    "    mensaje[\"Subject\"] = asunto\n",
    "    mensaje.set_content(cuerpo)"
   ]
  }
 ],
 "metadata": {
  "kernelspec": {
   "display_name": "Python 3",
   "language": "python",
   "name": "python3"
  },
  "language_info": {
   "codemirror_mode": {
    "name": "ipython",
    "version": 3
   },
   "file_extension": ".py",
   "mimetype": "text/x-python",
   "name": "python",
   "nbconvert_exporter": "python",
   "pygments_lexer": "ipython3",
   "version": "3.13.2"
  }
 },
 "nbformat": 4,
 "nbformat_minor": 2
}
